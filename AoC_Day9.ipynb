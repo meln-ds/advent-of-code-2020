{
 "cells": [
  {
   "cell_type": "markdown",
   "metadata": {},
   "source": [
    "### **--- Day 9: Encoding Error ---**\n",
    "With your neighbor happily enjoying their video game, you turn your attention to an open data port on the little screen in the seat in front of you.\n",
    "\n",
    "Though the port is non-standard, you manage to connect it to your computer through the clever use of several paperclips. Upon connection, the port outputs a series of numbers (your puzzle input).\n",
    "\n",
    "The data appears to be encrypted with the eXchange-Masking Addition System (XMAS) which, conveniently for you, is an old cypher with an important weakness.\n",
    "\n",
    "XMAS starts by transmitting a preamble of 25 numbers. After that, each number you receive should be the sum of any two of the 25 immediately previous numbers. The two numbers will have different values, and there might be more than one such pair.\n",
    "\n",
    "For example, suppose your preamble consists of the numbers 1 through 25 in a random order. To be valid, the next number must be the sum of two of those numbers:\n",
    "\n",
    "26 would be a valid next number, as it could be 1 plus 25 (or many other pairs, like 2 and 24).  \n",
    "49 would be a valid next number, as it is the sum of 24 and 25.  \n",
    "100 would not be valid; no two of the previous 25 numbers sum to 100.  \n",
    "50 would also not be valid; although 25 appears in the previous 25 numbers, the two numbers in the pair must be different.  \n",
    "\n",
    "Suppose the 26th number is 45, and the first number (no longer an option, as it is more than 25 numbers ago) was 20. Now, for the next number to be valid, there needs to be some pair of numbers among 1-19, 21-25, or 45 that add up to it:\n",
    "\n",
    "26 would still be a valid next number, as 1 and 25 are still within the previous 25 numbers.  \n",
    "65 would not be valid, as no two of the available numbers sum to it.  \n",
    "64 and 66 would both be valid, as they are the result of 19+45 and 21+45 respectively.  \n",
    "Here is a larger example which only considers the previous 5 numbers (and has a preamble of length 5):  \n",
    "\n",
    "35  \n",
    "20  \n",
    "15  \n",
    "25  \n",
    "47  \n",
    "40  \n",
    "62  \n",
    "55  \n",
    "65  \n",
    "95  \n",
    "102  \n",
    "117  \n",
    "150  \n",
    "182  \n",
    "127  \n",
    "219  \n",
    "299  \n",
    "277  \n",
    "309  \n",
    "576  \n",
    "In this example, after the 5-number preamble, almost every number is the sum of two of the previous 5 numbers; the only number that does not follow this rule is 127.\n",
    "\n",
    "The first step of attacking the weakness in the XMAS data is to find the first number in the list (after the preamble) which is not the sum of two of the 25 numbers before it. **What is the first number that does not have this property?**"
   ]
  },
  {
   "cell_type": "markdown",
   "metadata": {},
   "source": [
    "### **--- Part Two ---**\n",
    "The final step in breaking the XMAS encryption relies on the invalid number you just found: you must find a contiguous set of at least two numbers in your list which sum to the invalid number from step 1.\n",
    "\n",
    "Again consider the above example:\n",
    "\n",
    "35  \n",
    "20  \n",
    "15  \n",
    "25  \n",
    "47  \n",
    "40  \n",
    "62  \n",
    "55  \n",
    "65  \n",
    "95  \n",
    "102  \n",
    "117  \n",
    "150  \n",
    "182  \n",
    "127  \n",
    "219  \n",
    "299  \n",
    "277  \n",
    "309  \n",
    "576  \n",
    "\n",
    "In this list, adding up all of the numbers from 15 through 40 produces the invalid number from step 1, 127. (Of course, the contiguous set of numbers in your actual list might be much longer.)\n",
    "\n",
    "To find the encryption weakness, add together the smallest and largest number in this contiguous range; in this example, these are 15 and 47, producing 62.\n",
    "\n",
    "**What is the encryption weakness in your XMAS-encrypted list of numbers?**"
   ]
  },
  {
   "cell_type": "code",
   "execution_count": 1,
   "metadata": {},
   "outputs": [],
   "source": [
    "from itertools import combinations\n",
    "\n",
    "with open('aoc_day9.txt') as f:\n",
    "    c = f.read().split('\\n')\n",
    "    c = [int(num) for num in c]"
   ]
  },
  {
   "cell_type": "code",
   "execution_count": 2,
   "metadata": {},
   "outputs": [],
   "source": [
    "start = 0 \n",
    "end = 25\n",
    "part1 = 0\n",
    "\n",
    "while True:\n",
    "    num_range = c[start:end]\n",
    "    combs = combinations(num_range, 2)\n",
    "    totals = [sum(comb) for comb in combs]\n",
    "    if c[end] in totals: \n",
    "        start += 1\n",
    "        end += 1\n",
    "    else: \n",
    "        part1 = c[end]\n",
    "        break"
   ]
  },
  {
   "cell_type": "code",
   "execution_count": 3,
   "metadata": {},
   "outputs": [
    {
     "data": {
      "text/plain": [
       "1492208709"
      ]
     },
     "execution_count": 3,
     "metadata": {},
     "output_type": "execute_result"
    }
   ],
   "source": [
    "part1"
   ]
  },
  {
   "cell_type": "code",
   "execution_count": 5,
   "metadata": {},
   "outputs": [],
   "source": [
    "# getting all combinations is really slow. trust me, i tried. i hit memory error as soon as the iterable reaches 4\n",
    "# here's another solution taken from https://www.geeksforgeeks.org/find-subarray-with-given-sum/\n",
    "\n",
    "def subArraySum(arr, n, sum):\n",
    "    # Initialize curr_sum as \n",
    "    # value of first element \n",
    "    # and starting point as 0  \n",
    "    curr_sum = arr[0] \n",
    "    start = 0\n",
    "    \n",
    "    # Add elements one by  \n",
    "    # one to curr_sum and  \n",
    "    # if the curr_sum exceeds  \n",
    "    # the sum, then remove  \n",
    "    # starting element  \n",
    "    i = 1\n",
    "    while i <= n:\n",
    "        # If curr_sum exceeds \n",
    "        # the sum, then remove \n",
    "        # the starting elements \n",
    "        while curr_sum > sum and start < i-1: \n",
    "          \n",
    "            curr_sum = curr_sum - arr[start] \n",
    "            start += 1\n",
    "        \n",
    "        # If curr_sum becomes \n",
    "        # equal to sum, then \n",
    "        # return true \n",
    "        if curr_sum == sum: \n",
    "            print (\"Sum found between indexes\") \n",
    "            print (\"% d and % d\"%(start, i-1)) \n",
    "            return 1\n",
    "  \n",
    "        # Add this element  \n",
    "        # to curr_sum \n",
    "        if i < n: \n",
    "            curr_sum = curr_sum + arr[i] \n",
    "        i += 1\n",
    "  \n",
    "    # If we reach here,  \n",
    "    # then no subarray \n",
    "    print (\"No subarray found\") \n",
    "    return 0"
   ]
  },
  {
   "cell_type": "code",
   "execution_count": 7,
   "metadata": {},
   "outputs": [
    {
     "name": "stdout",
     "output_type": "stream",
     "text": [
      "Sum found between indexes\n",
      " 541 and  557\n"
     ]
    },
    {
     "data": {
      "text/plain": [
       "1"
      ]
     },
     "execution_count": 7,
     "metadata": {},
     "output_type": "execute_result"
    }
   ],
   "source": [
    "n = len(c)\n",
    "subArraySum(c, n, part1)"
   ]
  },
  {
   "cell_type": "code",
   "execution_count": 13,
   "metadata": {},
   "outputs": [],
   "source": [
    "part2_range = c[541:558]\n",
    "part2 = min(part2_range) + max(part2_range)"
   ]
  },
  {
   "cell_type": "code",
   "execution_count": 12,
   "metadata": {},
   "outputs": [],
   "source": [
    "assert part1 == sum(part2_range)"
   ]
  },
  {
   "cell_type": "code",
   "execution_count": 14,
   "metadata": {
    "scrolled": true
   },
   "outputs": [
    {
     "data": {
      "text/plain": [
       "238243506"
      ]
     },
     "execution_count": 14,
     "metadata": {},
     "output_type": "execute_result"
    }
   ],
   "source": [
    "part2"
   ]
  },
  {
   "cell_type": "code",
   "execution_count": null,
   "metadata": {},
   "outputs": [],
   "source": []
  }
 ],
 "metadata": {
  "kernelspec": {
   "display_name": "Python 3",
   "language": "python",
   "name": "python3"
  },
  "language_info": {
   "codemirror_mode": {
    "name": "ipython",
    "version": 3
   },
   "file_extension": ".py",
   "mimetype": "text/x-python",
   "name": "python",
   "nbconvert_exporter": "python",
   "pygments_lexer": "ipython3",
   "version": "3.8.5"
  }
 },
 "nbformat": 4,
 "nbformat_minor": 4
}
