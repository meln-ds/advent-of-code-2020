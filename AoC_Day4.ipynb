{
 "cells": [
  {
   "cell_type": "markdown",
   "metadata": {},
   "source": [
    "### **--- Day 4: Passport Processing ---**\n",
    "You arrive at the airport only to realize that you grabbed your North Pole Credentials instead of your passport. While these documents are extremely similar, North Pole Credentials aren't issued by a country and therefore aren't actually valid documentation for travel in most of the world.\n",
    "\n",
    "It seems like you're not the only one having problems, though; a very long line has formed for the automatic passport scanners, and the delay could upset your travel itinerary.\n",
    "\n",
    "Due to some questionable network security, you realize you might be able to solve both of these problems at the same time.\n",
    "\n",
    "The automatic passport scanners are slow because they're having trouble detecting which passports have all required fields. The expected fields are as follows:\n",
    "\n",
    "byr (Birth Year)  \n",
    "iyr (Issue Year)  \n",
    "eyr (Expiration Year)  \n",
    "hgt (Height)  \n",
    "hcl (Hair Color)  \n",
    "ecl (Eye Color)  \n",
    "pid (Passport ID)  \n",
    "cid (Country ID)  \n",
    "\n",
    "Passport data is validated in batch files (your puzzle input). Each passport is represented as a sequence of key:value pairs separated by spaces or newlines. Passports are separated by blank lines.\n",
    "\n",
    "Here is an example batch file containing four passports:\n",
    "\n",
    "ecl:gry pid:860033327 eyr:2020 hcl:#fffffd  \n",
    "byr:1937 iyr:2017 cid:147 hgt:183cm  \n",
    "\n",
    "iyr:2013 ecl:amb cid:350 eyr:2023 pid:028048884  \n",
    "hcl:#cfa07d byr:1929  \n",
    "\n",
    "hcl:#ae17e1 iyr:2013  \n",
    "eyr:2024  \n",
    "ecl:brn pid:760753108 byr:1931  \n",
    "hgt:179cm  \n",
    "\n",
    "hcl:#cfa07d eyr:2025 pid:166559648  \n",
    "iyr:2011 ecl:brn hgt:59in  \n",
    "\n",
    "\n",
    "The first passport is valid - all eight fields are present. The second passport is invalid - it is missing hgt (the Height field).\n",
    "\n",
    "The third passport is interesting; the only missing field is cid, so it looks like data from North Pole Credentials, not a passport at all! Surely, nobody would mind if you made the system temporarily ignore missing cid fields. Treat this \"passport\" as valid.\n",
    "\n",
    "The fourth passport is missing two fields, cid and byr. Missing cid is fine, but missing any other field is not, so this passport is invalid.\n",
    "\n",
    "According to the above rules, your improved system would report 2 valid passports.\n",
    "\n",
    "Count the number of valid passports - those that have all required fields. Treat cid as optional. In your batch file, how many passports are valid?"
   ]
  },
  {
   "cell_type": "code",
   "execution_count": 1,
   "metadata": {},
   "outputs": [],
   "source": [
    "import re\n",
    "\n",
    "n_valid = 0\n",
    "\n",
    "with open('aoc_day4.txt') as f:\n",
    "    pp_raw = [group.replace('\\n', ' ').split(' ') for group in f.read().split('\\n\\n')]\n",
    "    pp = [{item[:3]:item[4:] for item in p if item[:3] != 'cid'} for p in pp_raw]"
   ]
  },
  {
   "cell_type": "code",
   "execution_count": 2,
   "metadata": {},
   "outputs": [
    {
     "data": {
      "text/plain": [
       "[{'eyr': '2029',\n",
       "  'byr': '1931',\n",
       "  'hcl': 'z',\n",
       "  'ecl': 'amb',\n",
       "  'hgt': '150cm',\n",
       "  'iyr': '2015',\n",
       "  'pid': '148714704'},\n",
       " {'byr': '2013',\n",
       "  'hgt': '70cm',\n",
       "  'pid': '76982670',\n",
       "  'ecl': '#4f9a1c',\n",
       "  'hcl': '9e724b',\n",
       "  'eyr': '1981',\n",
       "  'iyr': '2027'}]"
      ]
     },
     "execution_count": 2,
     "metadata": {},
     "output_type": "execute_result"
    }
   ],
   "source": [
    "pp[:2]"
   ]
  },
  {
   "cell_type": "code",
   "execution_count": 3,
   "metadata": {},
   "outputs": [],
   "source": [
    "for p in pp:\n",
    "    if len(p.keys()) == 7:\n",
    "        n_valid += 1"
   ]
  },
  {
   "cell_type": "code",
   "execution_count": 4,
   "metadata": {},
   "outputs": [
    {
     "data": {
      "text/plain": [
       "233"
      ]
     },
     "execution_count": 4,
     "metadata": {},
     "output_type": "execute_result"
    }
   ],
   "source": [
    "n_valid"
   ]
  },
  {
   "cell_type": "markdown",
   "metadata": {},
   "source": [
    "### **--- Part Two ---**\n",
    "The line is moving more quickly now, but you overhear airport security talking about how passports with invalid data are getting through. Better add some data validation, quick!\n",
    "\n",
    "You can continue to ignore the cid field, but each other field has strict rules about what values are valid for automatic validation:\n",
    "\n",
    "byr (Birth Year) - four digits; at least 1920 and at most 2002.  \n",
    "iyr (Issue Year) - four digits; at least 2010 and at most 2020.  \n",
    "eyr (Expiration Year) - four digits; at least 2020 and at most 2030.  \n",
    "hgt (Height) - a number followed by either cm or in:  \n",
    "If cm, the number must be at least 150 and at most 193.  \n",
    "If in, the number must be at least 59 and at most 76.  \n",
    "hcl (Hair Color) - a # followed by exactly six characters 0-9 or a-f.  \n",
    "ecl (Eye Color) - exactly one of: amb blu brn gry grn hzl oth.  \n",
    "pid (Passport ID) - a nine-digit number, including leading zeroes.  \n",
    "cid (Country ID) - ignored, missing or not.  \n",
    "\n",
    "Your job is to count the passports where all required fields are both present and valid according to the above rules.\n",
    "\n",
    "Count the number of valid passports - those that have all required fields and valid values. Continue to treat cid as optional. In your batch file, how many passports are valid?"
   ]
  },
  {
   "cell_type": "code",
   "execution_count": 5,
   "metadata": {},
   "outputs": [],
   "source": [
    "matches = lambda pattern, string: bool(re.fullmatch(pattern, string))\n",
    "n_valid2 = 0\n",
    "\n",
    "for p in pp:\n",
    "    if len(p.keys()) == 7:\n",
    "        if matches('\\d\\d\\d\\d', p['byr']) and 1920<=int(p['byr'])<=2002:\n",
    "            if matches('\\d\\d\\d\\d', p['iyr']) and 2010<=int(p['iyr'])<=2020:\n",
    "                if matches('\\d\\d\\d\\d', p['eyr']) and 2020<=int(p['eyr'])<=2030:\n",
    "                    if matches('\\d{9}', p['pid']):\n",
    "                        if matches('amb|blu|brn|gry|grn|hzl|oth', p['ecl']):\n",
    "                            if matches('#[0-9a-f]{6}', p['hcl']):\n",
    "                                if (matches('\\d+cm', p['hgt']) and 150<=int(p['hgt'].replace('cm',''))<=193) or (matches('\\d+in', p['hgt']) and 59<=int(p['hgt'].replace('in',''))<=76):\n",
    "                                    n_valid2 += 1\n",
    "                        "
   ]
  },
  {
   "cell_type": "code",
   "execution_count": 6,
   "metadata": {},
   "outputs": [
    {
     "data": {
      "text/plain": [
       "111"
      ]
     },
     "execution_count": 6,
     "metadata": {},
     "output_type": "execute_result"
    }
   ],
   "source": [
    "n_valid2"
   ]
  },
  {
   "cell_type": "code",
   "execution_count": null,
   "metadata": {},
   "outputs": [],
   "source": []
  }
 ],
 "metadata": {
  "kernelspec": {
   "display_name": "Python 3",
   "language": "python",
   "name": "python3"
  },
  "language_info": {
   "codemirror_mode": {
    "name": "ipython",
    "version": 3
   },
   "file_extension": ".py",
   "mimetype": "text/x-python",
   "name": "python",
   "nbconvert_exporter": "python",
   "pygments_lexer": "ipython3",
   "version": "3.8.3"
  }
 },
 "nbformat": 4,
 "nbformat_minor": 4
}
