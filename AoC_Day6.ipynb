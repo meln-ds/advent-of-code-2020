{
 "cells": [
  {
   "cell_type": "markdown",
   "metadata": {},
   "source": [
    "### **--- Day 6: Custom Customs ---**\n",
    "As your flight approaches the regional airport where you'll switch to a much larger plane, customs declaration forms are distributed to the passengers. \n",
    "\n",
    "The form asks a series of 26 yes-or-no questions marked a through z. All you need to do is identify the questions for which **anyone in your group** answers \"yes\". Since your group is just you, this doesn't take very long.\n",
    "\n",
    "However, the person sitting next to you seems to be experiencing a language barrier and asks if you can help. For each of the people in their group, you write down the questions for which they answer \"yes\", one per line. For example:\n",
    "\n",
    "abcx  \n",
    "abcy  \n",
    "abcz  \n",
    "\n",
    "\n",
    "In this group, there are 6 questions to which anyone answered \"yes\": a, b, c, x, y, and z. (Duplicate answers to the same question don't count extra; each question counts at most once.)\n",
    "\n",
    "Another group asks for your help, then another, and eventually you've collected answers from every group on the plane (your puzzle input). Each group's answers are separated by a blank line, and within each group, each person's answers are on a single line. For example:\n",
    "\n",
    "abc\n",
    "\n",
    "a  \n",
    "b  \n",
    "c  \n",
    "\n",
    "ab  \n",
    "ac  \n",
    "\n",
    "a  \n",
    "a  \n",
    "a  \n",
    "a  \n",
    "\n",
    "b  \n",
    "\n",
    "This list represents answers from five groups:\n",
    "\n",
    "The first group contains one person who answered \"yes\" to 3 questions: a, b, and c.  \n",
    "The second group contains three people; combined, they answered \"yes\" to 3 questions: a, b, and c.  \n",
    "The third group contains two people; combined, they answered \"yes\" to 3 questions: a, b, and c.  \n",
    "The fourth group contains four people; combined, they answered \"yes\" to only 1 question, a.  \n",
    "The last group contains one person who answered \"yes\" to only 1 question, b.  \n",
    "In this example, the sum of these counts is 3 + 3 + 3 + 1 + 1 = 11.  \n",
    "\n",
    "For each group, count the number of questions to which anyone answered \"yes\". What is the sum of those counts?"
   ]
  },
  {
   "cell_type": "code",
   "execution_count": 13,
   "metadata": {},
   "outputs": [],
   "source": [
    "with open('aoc_day6.txt') as f:\n",
    "    contents = [group.replace('\\n',' ').split(' ') for group in f.read().split('\\n\\n')]\n",
    "    count = 0\n",
    "    for group in contents:\n",
    "        sets = [set(i) for i in group]\n",
    "        union = sets[0].union(*sets[1:])\n",
    "        count += len(union)"
   ]
  },
  {
   "cell_type": "code",
   "execution_count": 14,
   "metadata": {},
   "outputs": [
    {
     "data": {
      "text/plain": [
       "6335"
      ]
     },
     "execution_count": 14,
     "metadata": {},
     "output_type": "execute_result"
    }
   ],
   "source": [
    "count"
   ]
  },
  {
   "cell_type": "markdown",
   "metadata": {},
   "source": [
    "### **--- Part Two ---**\n",
    "As you finish the last group's customs declaration, you notice that you misread one word in the instructions:\n",
    "\n",
    "You don't need to identify the questions to which anyone answered \"yes\"; you need to identify the questions to which everyone answered \"yes\"!\n",
    "\n",
    "For each group, count the number of questions to which everyone answered \"yes\". What is the sum of those counts?"
   ]
  },
  {
   "cell_type": "code",
   "execution_count": 15,
   "metadata": {},
   "outputs": [],
   "source": [
    "with open('aoc_day6.txt') as f:\n",
    "    contents = [group.replace('\\n',' ').split(' ') for group in f.read().split('\\n\\n')]\n",
    "    count = 0\n",
    "    for group in contents:\n",
    "        sets = [set(i) for i in group]\n",
    "        intersection = sets[0].intersection(*sets[1:])\n",
    "        count += len(intersection)"
   ]
  },
  {
   "cell_type": "code",
   "execution_count": 16,
   "metadata": {},
   "outputs": [
    {
     "data": {
      "text/plain": [
       "3392"
      ]
     },
     "execution_count": 16,
     "metadata": {},
     "output_type": "execute_result"
    }
   ],
   "source": [
    "count"
   ]
  }
 ],
 "metadata": {
  "kernelspec": {
   "display_name": "Python 3",
   "language": "python",
   "name": "python3"
  },
  "language_info": {
   "codemirror_mode": {
    "name": "ipython",
    "version": 3
   },
   "file_extension": ".py",
   "mimetype": "text/x-python",
   "name": "python",
   "nbconvert_exporter": "python",
   "pygments_lexer": "ipython3",
   "version": "3.8.5"
  }
 },
 "nbformat": 4,
 "nbformat_minor": 4
}
