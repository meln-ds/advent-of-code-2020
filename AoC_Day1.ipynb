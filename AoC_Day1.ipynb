{
  "nbformat": 4,
  "nbformat_minor": 0,
  "metadata": {
    "colab": {
      "name": "AoC-Day1.ipynb",
      "provenance": [],
      "authorship_tag": "ABX9TyOA1kPKY2rYq+RGtQqMdOER",
      "include_colab_link": true
    },
    "kernelspec": {
      "name": "python3",
      "display_name": "Python 3"
    }
  },
  "cells": [
    {
      "cell_type": "markdown",
      "metadata": {
        "id": "view-in-github",
        "colab_type": "text"
      },
      "source": [
        "<a href=\"https://colab.research.google.com/github/meln-ds/advent-of-code-2020/blob/main/AoC_Day1.ipynb\" target=\"_parent\"><img src=\"https://colab.research.google.com/assets/colab-badge.svg\" alt=\"Open In Colab\"/></a>"
      ]
    },
    {
      "cell_type": "markdown",
      "metadata": {
        "id": "SapNjlXOuoo1"
      },
      "source": [
        "### **--- Day 1: Report Repair ---**\n",
        "After saving Christmas five years in a row, you've decided to take a vacation at a nice resort on a tropical island. Surely, Christmas will go on without you.\n",
        "\n",
        "The tropical island has its own currency and is entirely cash-only. The gold coins used there have a little picture of a starfish; the locals just call them stars. None of the currency exchanges seem to have heard of them, but somehow, you'll need to find fifty of these coins by the time you arrive so you can pay the deposit on your room.\n",
        "\n",
        "To save your vacation, you need to get all fifty stars by December 25th.\n",
        "\n",
        "Collect stars by solving puzzles. Two puzzles will be made available on each day in the Advent calendar; the second puzzle is unlocked when you complete the first. Each puzzle grants one star. Good luck!\n",
        "\n",
        "Before you leave, the Elves in accounting just need you to fix your expense report (your puzzle input); apparently, something isn't quite adding up.\n",
        "\n",
        "Specifically, they need you to find the two entries that sum to 2020 and then multiply those two numbers together.\n",
        "\n",
        "For example, suppose your expense report contained the following:\n",
        "\n",
        "1721  \n",
        "979  \n",
        "366  \n",
        "299  \n",
        "675  \n",
        "1456  \n",
        "In this list, the two entries that sum to 2020 are 1721 and 299. Multiplying them together produces 1721 * 299 = 514579, so the correct answer is 514579.\n",
        "\n",
        "Of course, your expense report is much larger. Find the two entries that sum to 2020; what do you get if you multiply them together?"
      ]
    },
    {
      "cell_type": "code",
      "metadata": {
        "id": "HJQiOpFtukAp"
      },
      "source": [
        "input = [1772,1065,1827,1671,1181,1915,1657,1632,1053,1546,\n",
        "1039,1388,1698,1174,1275,1250,1988,1078,1075,1958,1617,1387,1543,1965,1867,1771,\n",
        "1755,1331,1677,1935,1488,911,1001,1516,1949,1626,1083,1402,1223,1179,2001,1790,\n",
        "1551,1117,1990,1968,1532,1999,1175,1126,1869,1666,1753,513,1349,1139,1941,1823,\n",
        "1647,1835,1943,1459,1833,1398,1877,1625,1749,1631,1864,1826,1499,1336,1264,\n",
        "1091,1558,1321,1754,1729,1585,1740,1767,1774,1164,1318,1930,1236,1995,1611,1319,\n",
        "1361,1119,1563,1578,1047,1797,1787,1038,1921,1656,1898,1828,1727,1825,2010,536,\n",
        "1395,1865,1882,1638,1954,1565,1296,1723,1187,60,1130,1102,1963,1048,1493,1795,\n",
        "472,1496,1278,1444,1889,860,1975,1961,1070,1570,1495,1644,1881,1293,1090,1906,\n",
        "1385,1549,1143,1195,2004,1397,1032,1681,2000,1574,1400,1911,1868,1917,1872,\n",
        "1696,1086,1291,1761,1703,1202,1486,1705,1924,1186,1676,1615,1951,1556,1604,\n",
        "1534,2002,1334,1109,1108,1713,1422,1909,1418,1592,1887,1037,1568,1914,1780,\n",
        "1929,1973,1684,1581,1148,1931,1619,1082,1166,1913,1312,1330,1540,1841,1977,\n",
        "1769,1691,1821]"
      ],
      "execution_count": 1,
      "outputs": []
    },
    {
      "cell_type": "code",
      "metadata": {
        "id": "zBXHqblKw59v"
      },
      "source": [
        "import itertools\n",
        "import numpy as np\n",
        "\n",
        "def find_sum(input, length):\n",
        "  for i in itertools.combinations(input, length):\n",
        "    total = sum(i)\n",
        "    if total == 2020: \n",
        "      prod = np.prod(i)\n",
        "      break\n",
        "    else: total == 0\n",
        "\n",
        "  return i, prod"
      ],
      "execution_count": 21,
      "outputs": []
    },
    {
      "cell_type": "code",
      "metadata": {
        "colab": {
          "base_uri": "https://localhost:8080/"
        },
        "id": "ZpUfqhvGzaiY",
        "outputId": "be01c45a-3e5d-446e-8702-30a00911f39f"
      },
      "source": [
        "find_sum(input, 2)"
      ],
      "execution_count": 22,
      "outputs": [
        {
          "output_type": "execute_result",
          "data": {
            "text/plain": [
              "((911, 1109), 1010299)"
            ]
          },
          "metadata": {
            "tags": []
          },
          "execution_count": 22
        }
      ]
    },
    {
      "cell_type": "code",
      "metadata": {
        "colab": {
          "base_uri": "https://localhost:8080/"
        },
        "id": "H9hWdTjC10UN",
        "outputId": "fb600082-beb1-49bb-e51e-fbef88afdaf0"
      },
      "source": [
        "%timeit find_sum(input, 2)"
      ],
      "execution_count": 24,
      "outputs": [
        {
          "output_type": "stream",
          "text": [
            "1000 loops, best of 3: 1.12 ms per loop\n"
          ],
          "name": "stdout"
        }
      ]
    },
    {
      "cell_type": "markdown",
      "metadata": {
        "id": "GGg1-WdD0d4F"
      },
      "source": [
        "### **--- Part Two ---**\n",
        "The Elves in accounting are thankful for your help; one of them even offers you a starfish coin they had left over from a past vacation. They offer you a second one if you can find three numbers in your expense report that meet the same criteria.\n",
        "\n",
        "Using the above example again, the three entries that sum to 2020 are 979, 366, and 675. Multiplying them together produces the answer, 241861950.\n",
        "\n",
        "In your expense report, what is the product of the three entries that sum to 2020?"
      ]
    },
    {
      "cell_type": "code",
      "metadata": {
        "colab": {
          "base_uri": "https://localhost:8080/"
        },
        "id": "ETrbJq2b0FPS",
        "outputId": "4b5ce5a0-b24a-42d8-f657-d82687cf860f"
      },
      "source": [
        "find_sum(input,3)"
      ],
      "execution_count": 23,
      "outputs": [
        {
          "output_type": "execute_result",
          "data": {
            "text/plain": [
              "((1488, 60, 472), 42140160)"
            ]
          },
          "metadata": {
            "tags": []
          },
          "execution_count": 23
        }
      ]
    },
    {
      "cell_type": "code",
      "metadata": {
        "colab": {
          "base_uri": "https://localhost:8080/"
        },
        "id": "hPU1lIit1y-G",
        "outputId": "d316d6d1-043f-45b7-b010-0df09e320fd4"
      },
      "source": [
        "%timeit find_sum(input,3)"
      ],
      "execution_count": 25,
      "outputs": [
        {
          "output_type": "stream",
          "text": [
            "10 loops, best of 3: 105 ms per loop\n"
          ],
          "name": "stdout"
        }
      ]
    },
    {
      "cell_type": "code",
      "metadata": {
        "id": "cgDg8uJw16nm"
      },
      "source": [
        ""
      ],
      "execution_count": null,
      "outputs": []
    }
  ]
}