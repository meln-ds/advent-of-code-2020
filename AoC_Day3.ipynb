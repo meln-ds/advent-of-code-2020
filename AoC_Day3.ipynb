{
 "cells": [
  {
   "cell_type": "markdown",
   "metadata": {
    "id": "Zw3kBKf3kN_7"
   },
   "source": [
    "### **--- Day 3: Toboggan Trajectory ---**\n",
    "With the toboggan login problems resolved, you set off toward the airport. While travel by toboggan might be easy, it's certainly not safe: there's very minimal steering and the area is covered in trees. You'll need to see which angles will take you near the fewest trees.\n",
    "\n",
    "Due to the local geology, trees in this area only grow on exact integer coordinates in a grid. You make a map (your puzzle input) of the open squares (.) and trees (#) you can see. For example:\n",
    "\n",
    "```\n",
    "..##.......\n",
    "#...#...#..\n",
    ".#....#..#.\n",
    "..#.#...#.#\n",
    ".#...##..#.\n",
    "..#.##.....\n",
    ".#.#.#....#\n",
    ".#........#\n",
    "#.##...#...\n",
    "#...##....#\n",
    ".#..#...#.#\n",
    "```\n",
    "\n",
    "\n",
    "These aren't the only trees, though; due to something you read about once involving arboreal genetics and biome stability, the same pattern repeats to the right many times:\n",
    "\n",
    "\n",
    "```\n",
    "..##.........##.........##.........##.........##.........##.......  --->\n",
    "#...#...#..#...#...#..#...#...#..#...#...#..#...#...#..#...#...#..\n",
    ".#....#..#..#....#..#..#....#..#..#....#..#..#....#..#..#....#..#.\n",
    "..#.#...#.#..#.#...#.#..#.#...#.#..#.#...#.#..#.#...#.#..#.#...#.#\n",
    ".#...##..#..#...##..#..#...##..#..#...##..#..#...##..#..#...##..#.\n",
    "..#.##.......#.##.......#.##.......#.##.......#.##.......#.##.....  --->\n",
    ".#.#.#....#.#.#.#....#.#.#.#....#.#.#.#....#.#.#.#....#.#.#.#....#\n",
    ".#........#.#........#.#........#.#........#.#........#.#........#\n",
    "#.##...#...#.##...#...#.##...#...#.##...#...#.##...#...#.##...#...\n",
    "#...##....##...##....##...##....##...##....##...##....##...##....#\n",
    ".#..#...#.#.#..#...#.#.#..#...#.#.#..#...#.#.#..#...#.#.#..#...#.#  --->\n",
    "```\n",
    "\n",
    "You start on the open square (.) in the top-left corner and need to reach the bottom (below the bottom-most row on your map).\n",
    "\n",
    "The toboggan can only follow a few specific slopes (you opted for a cheaper model that prefers rational numbers); start by counting all the trees you would encounter for the slope right 3, down 1:\n",
    "\n",
    "From your starting position at the top-left, check the position that is right 3 and down 1. Then, check the position that is right 3 and down 1 from there, and so on until you go past the bottom of the map.\n",
    "\n",
    "The locations you'd check in the above example are marked here with O where there was an open square and X where there was a tree:\n",
    "\n",
    "\n",
    "\n",
    "```\n",
    "..##.........##.........##.........##.........##.........##.......  --->\n",
    "#..O#...#..#...#...#..#...#...#..#...#...#..#...#...#..#...#...#..\n",
    ".#....X..#..#....#..#..#....#..#..#....#..#..#....#..#..#....#..#.\n",
    "..#.#...#O#..#.#...#.#..#.#...#.#..#.#...#.#..#.#...#.#..#.#...#.#\n",
    ".#...##..#..X...##..#..#...##..#..#...##..#..#...##..#..#...##..#.\n",
    "..#.##.......#.X#.......#.##.......#.##.......#.##.......#.##.....  --->\n",
    ".#.#.#....#.#.#.#.O..#.#.#.#....#.#.#.#....#.#.#.#....#.#.#.#....#\n",
    ".#........#.#........X.#........#.#........#.#........#.#........#\n",
    "#.##...#...#.##...#...#.X#...#...#.##...#...#.##...#...#.##...#...\n",
    "#...##....##...##....##...#X....##...##....##...##....##...##....#\n",
    ".#..#...#.#.#..#...#.#.#..#...X.#.#..#...#.#.#..#...#.#.#..#...#.#  --->\n",
    "```\n",
    "\n",
    "In this example, traversing the map using this slope would cause you to encounter 7 trees.\n",
    "\n",
    "Starting at the top-left corner of your map and following a slope of right 3 and down 1, how many trees would you encounter?"
   ]
  },
  {
   "cell_type": "code",
   "execution_count": 1,
   "metadata": {
    "id": "jUzUko9ckqrl"
   },
   "outputs": [],
   "source": [
    "loc = 0\n",
    "tree_map = []\n",
    "\n",
    "with open('aoc_day3.txt') as f:\n",
    "    next(f)\n",
    "    for line in f.readlines():\n",
    "        loc = loc + 3\n",
    "        line = line.rstrip()\n",
    "        max_loc = len(line) - 1\n",
    "        if loc - max_loc == 2 :\n",
    "            loc = 1\n",
    "            tree_map.append(line[loc])\n",
    "        elif loc - max_loc == 1:\n",
    "            loc = 0\n",
    "            tree_map.append(line[loc])\n",
    "        elif loc == max_loc:\n",
    "            tree_map.append(line[loc])\n",
    "            loc = -1\n",
    "        else:\n",
    "            tree_map.append(line[loc])\n",
    "            "
   ]
  },
  {
   "cell_type": "code",
   "execution_count": 2,
   "metadata": {},
   "outputs": [],
   "source": [
    "num_trees_2 = 0 \n",
    "for i in range(len(tree_map)):\n",
    "    if tree_map[i] == \"#\":\n",
    "        num_trees_2 += 1"
   ]
  },
  {
   "cell_type": "code",
   "execution_count": 3,
   "metadata": {},
   "outputs": [
    {
     "data": {
      "text/plain": [
       "294"
      ]
     },
     "execution_count": 3,
     "metadata": {},
     "output_type": "execute_result"
    }
   ],
   "source": [
    "num_trees_2"
   ]
  },
  {
   "cell_type": "markdown",
   "metadata": {},
   "source": [
    "### **--- Part Two ---**\n",
    "\n",
    "Time to check the rest of the slopes - you need to minimize the probability of a sudden arboreal stop, after all.\n",
    "\n",
    "Determine the number of trees you would encounter if, for each of the following slopes, you start at the top-left corner and traverse the map all the way to the bottom:\n",
    "\n",
    "Right 1, down 1.  \n",
    "Right 3, down 1. (This is the slope you already checked.)  \n",
    "Right 5, down 1.  \n",
    "Right 7, down 1.  \n",
    "Right 1, down 2.  \n",
    "In the above example, these slopes would find 2, 7, 3, 4, and 2 tree(s) respectively; multiplied together, these produce the answer 336.\n",
    "\n",
    "What do you get if you multiply together the number of trees encountered on each of the listed slopes?"
   ]
  },
  {
   "cell_type": "code",
   "execution_count": 4,
   "metadata": {},
   "outputs": [],
   "source": [
    "# Right 1 down 1\n",
    "loc = 0\n",
    "tree_map = []\n",
    "with open('aoc_day3.txt') as f:\n",
    "    next(f)\n",
    "    for line in f.readlines():\n",
    "        loc += 1\n",
    "        line = line.rstrip()\n",
    "        max_loc = len(line) - 1\n",
    "        if loc == max_loc:\n",
    "            tree_map.append(line[loc])\n",
    "            loc = -1\n",
    "        else:\n",
    "            tree_map.append(line[loc])\n",
    "            \n",
    "num_trees_1 = 0 \n",
    "for i in range(len(tree_map)):\n",
    "    if tree_map[i] == \"#\":\n",
    "        num_trees_1 += 1"
   ]
  },
  {
   "cell_type": "code",
   "execution_count": 5,
   "metadata": {},
   "outputs": [
    {
     "data": {
      "text/plain": [
       "75"
      ]
     },
     "execution_count": 5,
     "metadata": {},
     "output_type": "execute_result"
    }
   ],
   "source": [
    "num_trees_1"
   ]
  },
  {
   "cell_type": "code",
   "execution_count": 8,
   "metadata": {},
   "outputs": [],
   "source": [
    "# Right 5, down 1\n",
    "loc = 0\n",
    "tree_map = []\n",
    "with open('aoc_day3.txt') as f:\n",
    "    next(f)\n",
    "    for line in f.readlines():\n",
    "        loc += 5\n",
    "        line = line.rstrip()\n",
    "        max_loc = len(line) - 1\n",
    "        if loc == max_loc:\n",
    "            tree_map.append(line[loc])\n",
    "            loc = -1\n",
    "        elif loc - max_loc == 4:\n",
    "            loc = 3\n",
    "            tree_map.append(line[loc])\n",
    "        elif loc - max_loc == 3:\n",
    "            loc = 2\n",
    "            tree_map.append(line[loc])\n",
    "        elif loc - max_loc == 2:\n",
    "            loc = 1\n",
    "            tree_map.append(line[loc])\n",
    "        elif loc - max_loc == 1:\n",
    "            loc = 0\n",
    "            tree_map.append(line[loc])\n",
    "        else:\n",
    "            tree_map.append(line[loc])\n",
    "            \n",
    "num_trees_3 = 0 \n",
    "for i in range(len(tree_map)):\n",
    "    if tree_map[i] == \"#\":\n",
    "        num_trees_3 += 1    "
   ]
  },
  {
   "cell_type": "code",
   "execution_count": 9,
   "metadata": {},
   "outputs": [
    {
     "data": {
      "text/plain": [
       "79"
      ]
     },
     "execution_count": 9,
     "metadata": {},
     "output_type": "execute_result"
    }
   ],
   "source": [
    "num_trees_3"
   ]
  },
  {
   "cell_type": "code",
   "execution_count": 10,
   "metadata": {},
   "outputs": [],
   "source": [
    "# Right 7, down 1\n",
    "loc = 0\n",
    "tree_map = []\n",
    "with open('aoc_day3.txt') as f:\n",
    "    next(f)\n",
    "    for line in f.readlines():\n",
    "        loc += 7\n",
    "        line = line.rstrip()\n",
    "        max_loc = len(line) - 1\n",
    "        if loc == max_loc:\n",
    "            tree_map.append(line[loc])\n",
    "            loc = -1\n",
    "        elif loc - max_loc == 6:\n",
    "            loc = 5\n",
    "            tree_map.append(line[loc])\n",
    "        elif loc - max_loc == 5:\n",
    "            loc = 4\n",
    "            tree_map.append(line[loc])\n",
    "        elif loc - max_loc == 4:\n",
    "            loc = 3\n",
    "            tree_map.append(line[loc])\n",
    "        elif loc - max_loc == 3:\n",
    "            loc = 2\n",
    "            tree_map.append(line[loc])\n",
    "        elif loc - max_loc == 2:\n",
    "            loc = 1\n",
    "            tree_map.append(line[loc])\n",
    "        elif loc - max_loc == 1:\n",
    "            loc = 0\n",
    "            tree_map.append(line[loc])\n",
    "        else:\n",
    "            tree_map.append(line[loc])\n",
    "            \n",
    "num_trees_4 = 0 \n",
    "for i in range(len(tree_map)):\n",
    "    if tree_map[i] == \"#\":\n",
    "        num_trees_4 += 1    "
   ]
  },
  {
   "cell_type": "code",
   "execution_count": 11,
   "metadata": {},
   "outputs": [
    {
     "data": {
      "text/plain": [
       "85"
      ]
     },
     "execution_count": 11,
     "metadata": {},
     "output_type": "execute_result"
    }
   ],
   "source": [
    "num_trees_4"
   ]
  },
  {
   "cell_type": "code",
   "execution_count": 17,
   "metadata": {},
   "outputs": [],
   "source": [
    "# Right 1, down 2\n",
    "loc = 0\n",
    "row_count = 2\n",
    "tree_map = []\n",
    "with open('aoc_day3.txt') as f:\n",
    "    next(f)\n",
    "    for line in f.readlines():\n",
    "        if row_count%2 == 0:\n",
    "            row_count += 1\n",
    "            continue\n",
    "        else:\n",
    "            loc += 1\n",
    "            line = line.rstrip()\n",
    "            max_loc = len(line) - 1\n",
    "            row_count += 1\n",
    "            if loc == max_loc:\n",
    "                tree_map.append(line[loc])\n",
    "                loc = -1\n",
    "            else:\n",
    "                tree_map.append(line[loc])           \n",
    "            \n",
    "num_trees_5 = 0 \n",
    "for i in range(len(tree_map)):\n",
    "    if tree_map[i] == \"#\":\n",
    "        num_trees_5 += 1   "
   ]
  },
  {
   "cell_type": "code",
   "execution_count": 18,
   "metadata": {},
   "outputs": [
    {
     "data": {
      "text/plain": [
       "39"
      ]
     },
     "execution_count": 18,
     "metadata": {},
     "output_type": "execute_result"
    }
   ],
   "source": [
    "num_trees_5"
   ]
  },
  {
   "cell_type": "code",
   "execution_count": 20,
   "metadata": {},
   "outputs": [
    {
     "data": {
      "text/plain": [
       "161"
      ]
     },
     "execution_count": 20,
     "metadata": {},
     "output_type": "execute_result"
    }
   ],
   "source": [
    "len(tree_map)"
   ]
  },
  {
   "cell_type": "code",
   "execution_count": 22,
   "metadata": {},
   "outputs": [
    {
     "data": {
      "text/plain": [
       "5774564250"
      ]
     },
     "execution_count": 22,
     "metadata": {},
     "output_type": "execute_result"
    }
   ],
   "source": [
    "num_trees_1 * num_trees_2 * num_trees_3 * num_trees_4 * num_trees_5"
   ]
  }
 ],
 "metadata": {
  "colab": {
   "name": "AoC-Day3.ipynb",
   "provenance": []
  },
  "kernelspec": {
   "display_name": "Python 3",
   "language": "python",
   "name": "python3"
  },
  "language_info": {
   "codemirror_mode": {
    "name": "ipython",
    "version": 3
   },
   "file_extension": ".py",
   "mimetype": "text/x-python",
   "name": "python",
   "nbconvert_exporter": "python",
   "pygments_lexer": "ipython3",
   "version": "3.8.3"
  }
 },
 "nbformat": 4,
 "nbformat_minor": 1
}
